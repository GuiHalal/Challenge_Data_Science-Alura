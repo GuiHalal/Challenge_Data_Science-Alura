{
 "cells": [
  {
   "cell_type": "code",
   "execution_count": 84,
   "id": "1c4ee68f",
   "metadata": {},
   "outputs": [],
   "source": [
    "import pandas as pd"
   ]
  },
  {
   "cell_type": "code",
   "execution_count": 85,
   "id": "009b5974",
   "metadata": {},
   "outputs": [],
   "source": [
    "dados = pd.read_csv(\"data/export_dados_juntos.csv\")"
   ]
  },
  {
   "cell_type": "code",
   "execution_count": 86,
   "id": "f2447a0c",
   "metadata": {},
   "outputs": [
    {
     "data": {
      "text/html": [
       "<div>\n",
       "<style scoped>\n",
       "    .dataframe tbody tr th:only-of-type {\n",
       "        vertical-align: middle;\n",
       "    }\n",
       "\n",
       "    .dataframe tbody tr th {\n",
       "        vertical-align: top;\n",
       "    }\n",
       "\n",
       "    .dataframe thead th {\n",
       "        text-align: right;\n",
       "    }\n",
       "</style>\n",
       "<table border=\"1\" class=\"dataframe\">\n",
       "  <thead>\n",
       "    <tr style=\"text-align: right;\">\n",
       "      <th></th>\n",
       "      <th>IDADE</th>\n",
       "      <th>SALARIO_ANUAL</th>\n",
       "      <th>SITUCAO_MORADIA</th>\n",
       "      <th>ANOS_EMPREGO</th>\n",
       "      <th>MOTIVO_EMPRESTIMO</th>\n",
       "      <th>RANKING_EMPRESTIMO</th>\n",
       "      <th>VALOR_SOLICITADO</th>\n",
       "      <th>TAXA_DE_JURO</th>\n",
       "      <th>RISCO_INADIMP</th>\n",
       "      <th>EMP_VS_RENDA</th>\n",
       "      <th>HISTORICO_INADIMP</th>\n",
       "      <th>ANOS_DE_CREDITO</th>\n",
       "    </tr>\n",
       "  </thead>\n",
       "  <tbody>\n",
       "    <tr>\n",
       "      <th>0</th>\n",
       "      <td>21.0</td>\n",
       "      <td>60000.0</td>\n",
       "      <td>Alugada</td>\n",
       "      <td>2.0</td>\n",
       "      <td>Educativo</td>\n",
       "      <td>B</td>\n",
       "      <td>8000.0</td>\n",
       "      <td>11.26</td>\n",
       "      <td>0.0</td>\n",
       "      <td>0.13</td>\n",
       "      <td>N</td>\n",
       "      <td>3</td>\n",
       "    </tr>\n",
       "    <tr>\n",
       "      <th>1</th>\n",
       "      <td>40.0</td>\n",
       "      <td>70000.0</td>\n",
       "      <td>Hipotecada</td>\n",
       "      <td>6.0</td>\n",
       "      <td>Educativo</td>\n",
       "      <td>A</td>\n",
       "      <td>18000.0</td>\n",
       "      <td>7.90</td>\n",
       "      <td>0.0</td>\n",
       "      <td>0.26</td>\n",
       "      <td>N</td>\n",
       "      <td>14</td>\n",
       "    </tr>\n",
       "    <tr>\n",
       "      <th>2</th>\n",
       "      <td>29.0</td>\n",
       "      <td>115000.0</td>\n",
       "      <td>Hipotecada</td>\n",
       "      <td>3.0</td>\n",
       "      <td>Médico</td>\n",
       "      <td>C</td>\n",
       "      <td>22000.0</td>\n",
       "      <td>15.23</td>\n",
       "      <td>0.0</td>\n",
       "      <td>0.19</td>\n",
       "      <td>S</td>\n",
       "      <td>7</td>\n",
       "    </tr>\n",
       "    <tr>\n",
       "      <th>3</th>\n",
       "      <td>26.0</td>\n",
       "      <td>84996.0</td>\n",
       "      <td>Alugada</td>\n",
       "      <td>0.0</td>\n",
       "      <td>Médico</td>\n",
       "      <td>B</td>\n",
       "      <td>9000.0</td>\n",
       "      <td>11.26</td>\n",
       "      <td>0.0</td>\n",
       "      <td>0.11</td>\n",
       "      <td>N</td>\n",
       "      <td>2</td>\n",
       "    </tr>\n",
       "    <tr>\n",
       "      <th>4</th>\n",
       "      <td>23.0</td>\n",
       "      <td>54500.0</td>\n",
       "      <td>Alugada</td>\n",
       "      <td>2.0</td>\n",
       "      <td>Pagamento de débitos</td>\n",
       "      <td>A</td>\n",
       "      <td>8000.0</td>\n",
       "      <td>NaN</td>\n",
       "      <td>0.0</td>\n",
       "      <td>0.15</td>\n",
       "      <td>N</td>\n",
       "      <td>2</td>\n",
       "    </tr>\n",
       "  </tbody>\n",
       "</table>\n",
       "</div>"
      ],
      "text/plain": [
       "   IDADE  SALARIO_ANUAL SITUCAO_MORADIA  ANOS_EMPREGO     MOTIVO_EMPRESTIMO  \\\n",
       "0   21.0        60000.0         Alugada           2.0             Educativo   \n",
       "1   40.0        70000.0      Hipotecada           6.0             Educativo   \n",
       "2   29.0       115000.0      Hipotecada           3.0                Médico   \n",
       "3   26.0        84996.0         Alugada           0.0                Médico   \n",
       "4   23.0        54500.0         Alugada           2.0  Pagamento de débitos   \n",
       "\n",
       "  RANKING_EMPRESTIMO  VALOR_SOLICITADO  TAXA_DE_JURO  RISCO_INADIMP  \\\n",
       "0                  B            8000.0         11.26            0.0   \n",
       "1                  A           18000.0          7.90            0.0   \n",
       "2                  C           22000.0         15.23            0.0   \n",
       "3                  B            9000.0         11.26            0.0   \n",
       "4                  A            8000.0           NaN            0.0   \n",
       "\n",
       "   EMP_VS_RENDA HISTORICO_INADIMP  ANOS_DE_CREDITO  \n",
       "0          0.13                 N                3  \n",
       "1          0.26                 N               14  \n",
       "2          0.19                 S                7  \n",
       "3          0.11                 N                2  \n",
       "4          0.15                 N                2  "
      ]
     },
     "execution_count": 86,
     "metadata": {},
     "output_type": "execute_result"
    }
   ],
   "source": [
    "dados.head(5)"
   ]
  },
  {
   "cell_type": "markdown",
   "id": "a0ee3842",
   "metadata": {},
   "source": [
    "## Remoção de dados nulos"
   ]
  },
  {
   "cell_type": "code",
   "execution_count": 87,
   "id": "a63c9678",
   "metadata": {},
   "outputs": [
    {
     "name": "stdout",
     "output_type": "stream",
     "text": [
      "A base de dados tem 34485 Linhas e 12 Colunas.\n",
      "A base de dados tem 165 dados duplicados\n",
      "Dados nulos:\n",
      "\n",
      "IDADE                  320\n",
      "SALARIO_ANUAL          335\n",
      "SITUCAO_MORADIA        331\n",
      "ANOS_EMPREGO          1254\n",
      "MOTIVO_EMPRESTIMO      311\n",
      "RANKING_EMPRESTIMO     309\n",
      "VALOR_SOLICITADO       331\n",
      "TAXA_DE_JURO          3626\n",
      "RISCO_INADIMP          343\n",
      "EMP_VS_RENDA           315\n",
      "HISTORICO_INADIMP      366\n",
      "ANOS_DE_CREDITO          0\n",
      "dtype: int64\n"
     ]
    }
   ],
   "source": [
    "linhas = dados.shape[0]\n",
    "colunas= dados.shape[1]\n",
    "duplicados = (dados.duplicated()).sum()\n",
    "nulos = (dados.isnull()).sum()\n",
    "print('A base de dados tem {} Linhas e {} Colunas.'.format(linhas, colunas))\n",
    "print('A base de dados tem {} dados duplicados'.format(duplicados))\n",
    "print('Dados nulos:\\n\\n{}'.format(nulos))"
   ]
  },
  {
   "cell_type": "code",
   "execution_count": 88,
   "id": "fd62a49d",
   "metadata": {},
   "outputs": [],
   "source": [
    "dados.dropna(inplace=True)"
   ]
  },
  {
   "cell_type": "code",
   "execution_count": 89,
   "id": "e865ac2e",
   "metadata": {},
   "outputs": [
    {
     "name": "stdout",
     "output_type": "stream",
     "text": [
      "A base de dados tem 28638 Linhas e 12 Colunas.\n",
      "A base de dados tem 137 dados duplicados\n",
      "Dados nulos:\n",
      "\n",
      "IDADE                 0\n",
      "SALARIO_ANUAL         0\n",
      "SITUCAO_MORADIA       0\n",
      "ANOS_EMPREGO          0\n",
      "MOTIVO_EMPRESTIMO     0\n",
      "RANKING_EMPRESTIMO    0\n",
      "VALOR_SOLICITADO      0\n",
      "TAXA_DE_JURO          0\n",
      "RISCO_INADIMP         0\n",
      "EMP_VS_RENDA          0\n",
      "HISTORICO_INADIMP     0\n",
      "ANOS_DE_CREDITO       0\n",
      "dtype: int64\n"
     ]
    }
   ],
   "source": [
    "linhas = dados.shape[0]\n",
    "colunas= dados.shape[1]\n",
    "duplicados = (dados.duplicated()).sum()\n",
    "nulos = (dados.isnull()).sum()\n",
    "print('A base de dados tem {} Linhas e {} Colunas.'.format(linhas, colunas))\n",
    "print('A base de dados tem {} dados duplicados'.format(duplicados))\n",
    "print('Dados nulos:\\n\\n{}'.format(nulos))"
   ]
  },
  {
   "cell_type": "markdown",
   "id": "4dfefbdb",
   "metadata": {},
   "source": [
    "## Tratamento de outliers"
   ]
  },
  {
   "cell_type": "code",
   "execution_count": 90,
   "id": "8c24de0b",
   "metadata": {},
   "outputs": [
    {
     "data": {
      "text/plain": [
       "<AxesSubplot: >"
      ]
     },
     "execution_count": 90,
     "metadata": {},
     "output_type": "execute_result"
    },
    {
     "data": {
      "image/png": "[encoded data removed]",
      "text/plain": [
       "<Figure size 1400x600 with 1 Axes>"
      ]
     },
     "metadata": {},
     "output_type": "display_data"
    }
   ],
   "source": [
    "%matplotlib inline\n",
    "import matplotlib.pyplot as plt\n",
    "plt.rc('figure', figsize = (14,6))\n",
    "\n",
    "dados.boxplot(['IDADE'])"
   ]
  },
  {
   "cell_type": "code",
   "execution_count": 91,
   "id": "89cbef0a",
   "metadata": {},
   "outputs": [],
   "source": [
    "dados.drop(dados[dados.IDADE>85].index, axis=0, inplace=True)"
   ]
  },
  {
   "cell_type": "code",
   "execution_count": 92,
   "id": "5fe66e16",
   "metadata": {},
   "outputs": [
    {
     "data": {
      "text/plain": [
       "<AxesSubplot: >"
      ]
     },
     "execution_count": 92,
     "metadata": {},
     "output_type": "execute_result"
    },
    {
     "data": {
      "image/png": "[encoded data removed]",
      "text/plain": [
       "<Figure size 1400x600 with 1 Axes>"
      ]
     },
     "metadata": {},
     "output_type": "display_data"
    }
   ],
   "source": [
    "dados.boxplot(['IDADE'])"
   ]
  },
  {
   "cell_type": "code",
   "execution_count": 95,
   "id": "0a697096",
   "metadata": {},
   "outputs": [],
   "source": [
    "# parei"
   ]
  },
  {
   "cell_type": "code",
   "execution_count": 93,
   "id": "b455c97b",
   "metadata": {},
   "outputs": [],
   "source": [
    "q1 = dados.IDADE.quantile(.25) # primeiro quartil\n",
    "q3 = dados.IDADE.quantile(.75) # terceiro quartil\n",
    "iiq = q3 - q1 # intervalo inter-quartil\n",
    "lim_infer = q1 - 1.5 * iiq # limite inferior\n",
    "lim_super = q3 + 1.5 * iiq # limite superior"
   ]
  },
  {
   "cell_type": "code",
   "execution_count": 94,
   "id": "9f0ed7a9",
   "metadata": {},
   "outputs": [
    {
     "data": {
      "text/plain": [
       "40.5"
      ]
     },
     "execution_count": 94,
     "metadata": {},
     "output_type": "execute_result"
    }
   ],
   "source": [
    "lim_super\n"
   ]
  },
  {
   "cell_type": "code",
   "execution_count": null,
   "id": "a19ce020",
   "metadata": {},
   "outputs": [],
   "source": []
  }
 ],
 "metadata": {
  "kernelspec": {
   "display_name": "Python 3 (ipykernel)",
   "language": "python",
   "name": "python3"
  },
  "language_info": {
   "codemirror_mode": {
    "name": "ipython",
    "version": 3
   },
   "file_extension": ".py",
   "mimetype": "text/x-python",
   "name": "python",
   "nbconvert_exporter": "python",
   "pygments_lexer": "ipython3",
   "version": "3.9.12"
  }
 },
 "nbformat": 4,
 "nbformat_minor": 5
}
